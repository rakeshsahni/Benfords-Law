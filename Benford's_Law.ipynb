{
 "cells": [
  {
   "cell_type": "code",
   "execution_count": 20,
   "id": "46398f18",
   "metadata": {},
   "outputs": [],
   "source": [
    "import numpy as np\n",
    "import pandas as pd\n",
    "import matplotlib.pyplot as plt\n",
    "import seaborn as sns\n",
    "import os\n",
    "%matplotlib inline"
   ]
  },
  {
   "cell_type": "code",
   "execution_count": 21,
   "id": "d07b18b2",
   "metadata": {},
   "outputs": [],
   "source": [
    "ddir = r\"D:\\Dataset\\Benford's_Law\""
   ]
  },
  {
   "cell_type": "code",
   "execution_count": 22,
   "id": "ee0aa090",
   "metadata": {},
   "outputs": [
    {
     "data": {
      "text/plain": [
       "['country_area.csv', 'cricketor_odi_runs.csv', 'liked_on_comment.csv']"
      ]
     },
     "execution_count": 22,
     "metadata": {},
     "output_type": "execute_result"
    }
   ],
   "source": [
    "os.listdir(ddir)"
   ]
  },
  {
   "cell_type": "markdown",
   "id": "3bd9d4e0",
   "metadata": {},
   "source": [
    "### upload all countries area dataset\n",
    "\n",
    "#### Download Dataset\n",
    "#### https://www.kaggle.com/rakeshsahni/data-set-for-prove-benfords-law-power-of-one\n",
    "\n",
    "#### In this Dataset we collect areas (km2) of \n",
    "#### all countries in world and we also show \n",
    "#### most significant digit of each area of country"
   ]
  },
  {
   "cell_type": "code",
   "execution_count": 25,
   "id": "d6380296",
   "metadata": {},
   "outputs": [],
   "source": [
    "pt = os.path.join(ddir,'country_area.csv')"
   ]
  },
  {
   "cell_type": "code",
   "execution_count": 38,
   "id": "a443c86a",
   "metadata": {},
   "outputs": [
    {
     "data": {
      "text/html": [
       "<div>\n",
       "<style scoped>\n",
       "    .dataframe tbody tr th:only-of-type {\n",
       "        vertical-align: middle;\n",
       "    }\n",
       "\n",
       "    .dataframe tbody tr th {\n",
       "        vertical-align: top;\n",
       "    }\n",
       "\n",
       "    .dataframe thead th {\n",
       "        text-align: right;\n",
       "    }\n",
       "</style>\n",
       "<table border=\"1\" class=\"dataframe\">\n",
       "  <thead>\n",
       "    <tr style=\"text-align: right;\">\n",
       "      <th></th>\n",
       "      <th>country</th>\n",
       "      <th>country_area_km2</th>\n",
       "      <th>MSD_area</th>\n",
       "    </tr>\n",
       "  </thead>\n",
       "  <tbody>\n",
       "    <tr>\n",
       "      <th>0</th>\n",
       "      <td>Russia</td>\n",
       "      <td>17098246.00</td>\n",
       "      <td>1</td>\n",
       "    </tr>\n",
       "    <tr>\n",
       "      <th>1</th>\n",
       "      <td>Antarctica</td>\n",
       "      <td>14200000.00</td>\n",
       "      <td>1</td>\n",
       "    </tr>\n",
       "    <tr>\n",
       "      <th>2</th>\n",
       "      <td>Canada[Note 3]</td>\n",
       "      <td>9984670.00</td>\n",
       "      <td>9</td>\n",
       "    </tr>\n",
       "    <tr>\n",
       "      <th>3</th>\n",
       "      <td>China</td>\n",
       "      <td>9596961.00</td>\n",
       "      <td>9</td>\n",
       "    </tr>\n",
       "    <tr>\n",
       "      <th>4</th>\n",
       "      <td>United State</td>\n",
       "      <td>9525067.00</td>\n",
       "      <td>9</td>\n",
       "    </tr>\n",
       "    <tr>\n",
       "      <th>...</th>\n",
       "      <td>...</td>\n",
       "      <td>...</td>\n",
       "      <td>...</td>\n",
       "    </tr>\n",
       "    <tr>\n",
       "      <th>258</th>\n",
       "      <td>Ashmore and Cartier Islands (Australia)</td>\n",
       "      <td>5.00</td>\n",
       "      <td>5</td>\n",
       "    </tr>\n",
       "    <tr>\n",
       "      <th>259</th>\n",
       "      <td>Spratly Islands (disputed)</td>\n",
       "      <td>5.00</td>\n",
       "      <td>5</td>\n",
       "    </tr>\n",
       "    <tr>\n",
       "      <th>260</th>\n",
       "      <td>Coral Sea Islands (Australia)</td>\n",
       "      <td>3.00</td>\n",
       "      <td>3</td>\n",
       "    </tr>\n",
       "    <tr>\n",
       "      <th>261</th>\n",
       "      <td>Monaco</td>\n",
       "      <td>2.02</td>\n",
       "      <td>2</td>\n",
       "    </tr>\n",
       "    <tr>\n",
       "      <th>262</th>\n",
       "      <td>Vatican City</td>\n",
       "      <td>0.49</td>\n",
       "      <td>0</td>\n",
       "    </tr>\n",
       "  </tbody>\n",
       "</table>\n",
       "<p>263 rows × 3 columns</p>\n",
       "</div>"
      ],
      "text/plain": [
       "                                     country  country_area_km2  MSD_area\n",
       "0                                     Russia       17098246.00         1\n",
       "1                                 Antarctica       14200000.00         1\n",
       "2                             Canada[Note 3]        9984670.00         9\n",
       "3                                      China        9596961.00         9\n",
       "4                               United State        9525067.00         9\n",
       "..                                       ...               ...       ...\n",
       "258  Ashmore and Cartier Islands (Australia)              5.00         5\n",
       "259               Spratly Islands (disputed)              5.00         5\n",
       "260            Coral Sea Islands (Australia)              3.00         3\n",
       "261                                   Monaco              2.02         2\n",
       "262                             Vatican City              0.49         0\n",
       "\n",
       "[263 rows x 3 columns]"
      ]
     },
     "execution_count": 38,
     "metadata": {},
     "output_type": "execute_result"
    }
   ],
   "source": [
    "df_area = pd.read_csv(pt)\n",
    "df_area"
   ]
  },
  {
   "cell_type": "markdown",
   "id": "f91ad683",
   "metadata": {},
   "source": [
    "#### if we count most significant digit of area of all countries\n",
    "#### we found Interesting things that \n",
    "#### number 1 appears most times\n",
    "#### then 2, then 3, then 4 ...."
   ]
  },
  {
   "cell_type": "code",
   "execution_count": 29,
   "id": "d1a6241a",
   "metadata": {},
   "outputs": [
    {
     "data": {
      "text/plain": [
       "1    72\n",
       "2    50\n",
       "3    36\n",
       "4    27\n",
       "6    19\n",
       "5    19\n",
       "7    15\n",
       "9    13\n",
       "8    11\n",
       "0     1\n",
       "Name: MSD_area, dtype: int64"
      ]
     },
     "execution_count": 29,
     "metadata": {},
     "output_type": "execute_result"
    }
   ],
   "source": [
    "# we apply value counts for calculate\n",
    "# MSD appearance\n",
    "df_area['MSD_area'].value_counts()"
   ]
  },
  {
   "cell_type": "markdown",
   "id": "fb56ed7f",
   "metadata": {},
   "source": [
    "#### Here we saw\n",
    "#### 1 appears 72\n",
    "#### 2 appears 50\n",
    "#### 3 appears 36\n",
    "#### and so on in decreasing order\n",
    "\n",
    "#### When we plot this value counts of each \n",
    "#### Digits then we see .....\n",
    "#### Here follow Benford's Law"
   ]
  },
  {
   "cell_type": "code",
   "execution_count": 32,
   "id": "96854249",
   "metadata": {},
   "outputs": [
    {
     "data": {
      "text/plain": [
       "<AxesSubplot:>"
      ]
     },
     "execution_count": 32,
     "metadata": {},
     "output_type": "execute_result"
    },
    {
     "data": {
      "image/png": "[encoded data removed]",
      "text/plain": [
       "<Figure size 432x288 with 1 Axes>"
      ]
     },
     "metadata": {
      "needs_background": "light"
     },
     "output_type": "display_data"
    }
   ],
   "source": [
    "df_area['MSD_area'].value_counts().plot(kind = 'bar')"
   ]
  },
  {
   "cell_type": "code",
   "execution_count": null,
   "id": "a3c2e6ee",
   "metadata": {},
   "outputs": [],
   "source": []
  },
  {
   "cell_type": "markdown",
   "id": "c7eb1cbd",
   "metadata": {},
   "source": [
    "### if you people don't belive this then\n",
    "### let's see another Dataset which\n",
    "### Occurs Naturally or real life sets\n",
    "\n",
    "#### let's take dataset of ODI's cricketors total runs\n",
    "\n",
    "#### Download Dataset\n",
    "#### https://www.kaggle.com/rakeshsahni/data-set-for-prove-benfords-law-power-of-one\n",
    "\n",
    "#### In this ODI cricket dataset we have collected\n",
    "#### players name, his total runs and\n",
    "#### most significant digit of total runs\n",
    "#### which is shown in below Dataset"
   ]
  },
  {
   "cell_type": "code",
   "execution_count": 33,
   "id": "43595d54",
   "metadata": {},
   "outputs": [],
   "source": [
    "pt_odi = os.path.join(ddir,'cricketor_odi_runs.csv')"
   ]
  },
  {
   "cell_type": "code",
   "execution_count": 37,
   "id": "0338d30b",
   "metadata": {},
   "outputs": [
    {
     "data": {
      "text/html": [
       "<div>\n",
       "<style scoped>\n",
       "    .dataframe tbody tr th:only-of-type {\n",
       "        vertical-align: middle;\n",
       "    }\n",
       "\n",
       "    .dataframe tbody tr th {\n",
       "        vertical-align: top;\n",
       "    }\n",
       "\n",
       "    .dataframe thead th {\n",
       "        text-align: right;\n",
       "    }\n",
       "</style>\n",
       "<table border=\"1\" class=\"dataframe\">\n",
       "  <thead>\n",
       "    <tr style=\"text-align: right;\">\n",
       "      <th></th>\n",
       "      <th>Player</th>\n",
       "      <th>Span</th>\n",
       "      <th>Inns</th>\n",
       "      <th>Runs</th>\n",
       "      <th>MSD_runs</th>\n",
       "    </tr>\n",
       "  </thead>\n",
       "  <tbody>\n",
       "    <tr>\n",
       "      <th>0</th>\n",
       "      <td>SR Tendulkar (INDIA)</td>\n",
       "      <td>1989-2012</td>\n",
       "      <td>452</td>\n",
       "      <td>18426</td>\n",
       "      <td>1</td>\n",
       "    </tr>\n",
       "    <tr>\n",
       "      <th>1</th>\n",
       "      <td>KC Sangakkara (Asia/ICC/SL)</td>\n",
       "      <td>2000-2015</td>\n",
       "      <td>380</td>\n",
       "      <td>14234</td>\n",
       "      <td>1</td>\n",
       "    </tr>\n",
       "    <tr>\n",
       "      <th>2</th>\n",
       "      <td>RT Ponting (AUS/ICC)</td>\n",
       "      <td>1995-2012</td>\n",
       "      <td>365</td>\n",
       "      <td>13704</td>\n",
       "      <td>1</td>\n",
       "    </tr>\n",
       "    <tr>\n",
       "      <th>3</th>\n",
       "      <td>ST Jayasuriya (Asia/SL)</td>\n",
       "      <td>1989-2011</td>\n",
       "      <td>433</td>\n",
       "      <td>13430</td>\n",
       "      <td>1</td>\n",
       "    </tr>\n",
       "    <tr>\n",
       "      <th>4</th>\n",
       "      <td>DPMD Jayawardene (Asia/SL)</td>\n",
       "      <td>1998-2015</td>\n",
       "      <td>418</td>\n",
       "      <td>12650</td>\n",
       "      <td>1</td>\n",
       "    </tr>\n",
       "    <tr>\n",
       "      <th>...</th>\n",
       "      <td>...</td>\n",
       "      <td>...</td>\n",
       "      <td>...</td>\n",
       "      <td>...</td>\n",
       "      <td>...</td>\n",
       "    </tr>\n",
       "    <tr>\n",
       "      <th>2485</th>\n",
       "      <td>Tanvir Mehdi (PAK)</td>\n",
       "      <td>1992-1992</td>\n",
       "      <td>1</td>\n",
       "      <td>0</td>\n",
       "      <td>0</td>\n",
       "    </tr>\n",
       "    <tr>\n",
       "      <th>2486</th>\n",
       "      <td>M Venkataramana (INDIA)</td>\n",
       "      <td>1988-1988</td>\n",
       "      <td>1</td>\n",
       "      <td>0</td>\n",
       "      <td>0</td>\n",
       "    </tr>\n",
       "    <tr>\n",
       "      <th>2487</th>\n",
       "      <td>R Walters (NAM)</td>\n",
       "      <td>2003-2003</td>\n",
       "      <td>2</td>\n",
       "      <td>0</td>\n",
       "      <td>0</td>\n",
       "    </tr>\n",
       "    <tr>\n",
       "      <th>2488</th>\n",
       "      <td>CM Willoughby (SA)</td>\n",
       "      <td>2000-2003</td>\n",
       "      <td>2</td>\n",
       "      <td>0</td>\n",
       "      <td>0</td>\n",
       "    </tr>\n",
       "    <tr>\n",
       "      <th>2489</th>\n",
       "      <td>Zakir Hossain (BDESH)</td>\n",
       "      <td>1998-1998</td>\n",
       "      <td>1</td>\n",
       "      <td>0</td>\n",
       "      <td>0</td>\n",
       "    </tr>\n",
       "  </tbody>\n",
       "</table>\n",
       "<p>2490 rows × 5 columns</p>\n",
       "</div>"
      ],
      "text/plain": [
       "                           Player       Span  Inns   Runs  MSD_runs\n",
       "0            SR Tendulkar (INDIA)  1989-2012   452  18426         1\n",
       "1     KC Sangakkara (Asia/ICC/SL)  2000-2015   380  14234         1\n",
       "2            RT Ponting (AUS/ICC)  1995-2012   365  13704         1\n",
       "3         ST Jayasuriya (Asia/SL)  1989-2011   433  13430         1\n",
       "4      DPMD Jayawardene (Asia/SL)  1998-2015   418  12650         1\n",
       "...                           ...        ...   ...    ...       ...\n",
       "2485           Tanvir Mehdi (PAK)  1992-1992     1      0         0\n",
       "2486      M Venkataramana (INDIA)  1988-1988     1      0         0\n",
       "2487              R Walters (NAM)  2003-2003     2      0         0\n",
       "2488           CM Willoughby (SA)  2000-2003     2      0         0\n",
       "2489        Zakir Hossain (BDESH)  1998-1998     1      0         0\n",
       "\n",
       "[2490 rows x 5 columns]"
      ]
     },
     "execution_count": 37,
     "metadata": {},
     "output_type": "execute_result"
    }
   ],
   "source": [
    "df_odi = pd.read_csv(pt_odi)\n",
    "df_odi"
   ]
  },
  {
   "cell_type": "markdown",
   "id": "90420329",
   "metadata": {},
   "source": [
    "#### let's apply value counts on MSD_runs column\n",
    "#### to know each digits occurences"
   ]
  },
  {
   "cell_type": "code",
   "execution_count": 35,
   "id": "c00be340",
   "metadata": {},
   "outputs": [
    {
     "data": {
      "text/plain": [
       "1    744\n",
       "2    412\n",
       "3    300\n",
       "4    224\n",
       "5    194\n",
       "6    161\n",
       "8    142\n",
       "7    131\n",
       "9    117\n",
       "0     65\n",
       "Name: MSD_runs, dtype: int64"
      ]
     },
     "execution_count": 35,
     "metadata": {},
     "output_type": "execute_result"
    }
   ],
   "source": [
    "df_odi['MSD_runs'].value_counts()"
   ]
  },
  {
   "cell_type": "markdown",
   "id": "172c084f",
   "metadata": {},
   "source": [
    "#### Here we see\n",
    "#### 1 appears 744\n",
    "#### 2 appears 412\n",
    "#### 3 appears 300\n",
    "#### and so on in decring order\n",
    "\n",
    "#### let's plot these value in a graph and see"
   ]
  },
  {
   "cell_type": "code",
   "execution_count": 36,
   "id": "403b6b18",
   "metadata": {},
   "outputs": [
    {
     "data": {
      "text/plain": [
       "<AxesSubplot:>"
      ]
     },
     "execution_count": 36,
     "metadata": {},
     "output_type": "execute_result"
    },
    {
     "data": {
      "image/png": "[encoded data removed]",
      "text/plain": [
       "<Figure size 432x288 with 1 Axes>"
      ]
     },
     "metadata": {
      "needs_background": "light"
     },
     "output_type": "display_data"
    }
   ],
   "source": [
    "df_odi['MSD_runs'].value_counts().plot(kind='bar')"
   ]
  },
  {
   "cell_type": "markdown",
   "id": "940bd297",
   "metadata": {},
   "source": [
    "#### again here we see .....\n",
    "#### it's follow Benford's Law that\n",
    "#### 1 appears more then 2 then 3 and so on"
   ]
  },
  {
   "cell_type": "markdown",
   "id": "e40a92da",
   "metadata": {},
   "source": [
    "### Still if you people don't belive the let's again\n",
    "### apply another data set which is taken from YouTube\n",
    "\n",
    "#### Download Dataset\n",
    "#### https://www.kaggle.com/rakeshsahni/data-set-for-prove-benfords-law-power-of-one\n",
    "\n",
    "#### In this Dataset we collect total number of likes on YouTube video comments\n",
    "#### Dataset has comment, likes, MSD_likes columns\n",
    "#### where comment indicates that likes on that comments\n",
    "#### MSD_likes indicates that most significant digit of likes"
   ]
  },
  {
   "cell_type": "code",
   "execution_count": 43,
   "id": "58c8cf0e",
   "metadata": {},
   "outputs": [
    {
     "data": {
      "text/plain": [
       "\"D:\\\\Dataset\\\\Benford's_Law\\\\liked_on_comment.csv\""
      ]
     },
     "execution_count": 43,
     "metadata": {},
     "output_type": "execute_result"
    }
   ],
   "source": [
    "pt_LikeComment = os.path.join(ddir,'liked_on_comment.csv')\n",
    "pt_LikeComment"
   ]
  },
  {
   "cell_type": "markdown",
   "id": "1bfc901c",
   "metadata": {},
   "source": [
    "#### df_likeComment = pd.read_csv(pt_LikeComment)\n",
    "#### the cause was that there were some carriage returns \"\\r\" \n",
    "#### in the data that pandas was using as a \n",
    "#### line terminator as if it was \"\\n\".\n",
    "#### df_likeComment = pd.read_csv(pt_LikeComment, lineterminator='\\n')"
   ]
  },
  {
   "cell_type": "code",
   "execution_count": 49,
   "id": "d05b7a5e",
   "metadata": {},
   "outputs": [
    {
     "data": {
      "text/html": [
       "<div>\n",
       "<style scoped>\n",
       "    .dataframe tbody tr th:only-of-type {\n",
       "        vertical-align: middle;\n",
       "    }\n",
       "\n",
       "    .dataframe tbody tr th {\n",
       "        vertical-align: top;\n",
       "    }\n",
       "\n",
       "    .dataframe thead th {\n",
       "        text-align: right;\n",
       "    }\n",
       "</style>\n",
       "<table border=\"1\" class=\"dataframe\">\n",
       "  <thead>\n",
       "    <tr style=\"text-align: right;\">\n",
       "      <th></th>\n",
       "      <th>Video Name</th>\n",
       "      <th>Comment</th>\n",
       "      <th>Likes</th>\n",
       "      <th>MSD_Likes</th>\n",
       "    </tr>\n",
       "  </thead>\n",
       "  <tbody>\n",
       "    <tr>\n",
       "      <th>0</th>\n",
       "      <td>Luis Fonsi - Despacito ft. Daddy Yankee</td>\n",
       "      <td>The people who liked this comment is officiall...</td>\n",
       "      <td>98280</td>\n",
       "      <td>9</td>\n",
       "    </tr>\n",
       "    <tr>\n",
       "      <th>1</th>\n",
       "      <td>Luis Fonsi - Despacito ft. Daddy Yankee</td>\n",
       "      <td>- Wait, it's 7B views\\n- Always has been</td>\n",
       "      <td>773</td>\n",
       "      <td>7</td>\n",
       "    </tr>\n",
       "    <tr>\n",
       "      <th>2</th>\n",
       "      <td>Luis Fonsi - Despacito ft. Daddy Yankee</td>\n",
       "      <td>*Teacher: What is the population of the Earth?...</td>\n",
       "      <td>356081</td>\n",
       "      <td>3</td>\n",
       "    </tr>\n",
       "    <tr>\n",
       "      <th>3</th>\n",
       "      <td>Luis Fonsi - Despacito ft. Daddy Yankee</td>\n",
       "      <td>Let's be honest this wasn't your recommendatio...</td>\n",
       "      <td>13</td>\n",
       "      <td>1</td>\n",
       "    </tr>\n",
       "    <tr>\n",
       "      <th>4</th>\n",
       "      <td>Luis Fonsi - Despacito ft. Daddy Yankee</td>\n",
       "      <td>Types Of People:\\n10% Enjoying Song \\n90% Chec...</td>\n",
       "      <td>122</td>\n",
       "      <td>1</td>\n",
       "    </tr>\n",
       "    <tr>\n",
       "      <th>...</th>\n",
       "      <td>...</td>\n",
       "      <td>...</td>\n",
       "      <td>...</td>\n",
       "      <td>...</td>\n",
       "    </tr>\n",
       "    <tr>\n",
       "      <th>19295</th>\n",
       "      <td>ZAYN - PILLOWTALK (Official Music Video)</td>\n",
       "      <td>Claim your “before 1 billion” certificate here</td>\n",
       "      <td>5087</td>\n",
       "      <td>5</td>\n",
       "    </tr>\n",
       "    <tr>\n",
       "      <th>19296</th>\n",
       "      <td>ZAYN - PILLOWTALK (Official Music Video)</td>\n",
       "      <td>This means that you are before 1 billion views.</td>\n",
       "      <td>6</td>\n",
       "      <td>6</td>\n",
       "    </tr>\n",
       "    <tr>\n",
       "      <th>19297</th>\n",
       "      <td>ZAYN - PILLOWTALK (Official Music Video)</td>\n",
       "      <td>We won't have school till 2021 \\nMay God help ...</td>\n",
       "      <td>5</td>\n",
       "      <td>5</td>\n",
       "    </tr>\n",
       "    <tr>\n",
       "      <th>19298</th>\n",
       "      <td>ZAYN - PILLOWTALK (Official Music Video)</td>\n",
       "      <td>Literally saw this song from 1M -&gt; 996M</td>\n",
       "      <td>4</td>\n",
       "      <td>4</td>\n",
       "    </tr>\n",
       "    <tr>\n",
       "      <th>19299</th>\n",
       "      <td>ZAYN - PILLOWTALK (Official Music Video)</td>\n",
       "      <td>Podría escuchar esta canción la misma cantidad...</td>\n",
       "      <td>3</td>\n",
       "      <td>3</td>\n",
       "    </tr>\n",
       "  </tbody>\n",
       "</table>\n",
       "<p>19300 rows × 4 columns</p>\n",
       "</div>"
      ],
      "text/plain": [
       "                                     Video Name  \\\n",
       "0       Luis Fonsi - Despacito ft. Daddy Yankee   \n",
       "1       Luis Fonsi - Despacito ft. Daddy Yankee   \n",
       "2       Luis Fonsi - Despacito ft. Daddy Yankee   \n",
       "3       Luis Fonsi - Despacito ft. Daddy Yankee   \n",
       "4       Luis Fonsi - Despacito ft. Daddy Yankee   \n",
       "...                                         ...   \n",
       "19295  ZAYN - PILLOWTALK (Official Music Video)   \n",
       "19296  ZAYN - PILLOWTALK (Official Music Video)   \n",
       "19297  ZAYN - PILLOWTALK (Official Music Video)   \n",
       "19298  ZAYN - PILLOWTALK (Official Music Video)   \n",
       "19299  ZAYN - PILLOWTALK (Official Music Video)   \n",
       "\n",
       "                                                 Comment   Likes  MSD_Likes  \n",
       "0      The people who liked this comment is officiall...   98280          9  \n",
       "1               - Wait, it's 7B views\\n- Always has been     773          7  \n",
       "2      *Teacher: What is the population of the Earth?...  356081          3  \n",
       "3      Let's be honest this wasn't your recommendatio...      13          1  \n",
       "4      Types Of People:\\n10% Enjoying Song \\n90% Chec...     122          1  \n",
       "...                                                  ...     ...        ...  \n",
       "19295     Claim your “before 1 billion” certificate here    5087          5  \n",
       "19296    This means that you are before 1 billion views.       6          6  \n",
       "19297  We won't have school till 2021 \\nMay God help ...       5          5  \n",
       "19298            Literally saw this song from 1M -> 996M       4          4  \n",
       "19299  Podría escuchar esta canción la misma cantidad...       3          3  \n",
       "\n",
       "[19300 rows x 4 columns]"
      ]
     },
     "execution_count": 49,
     "metadata": {},
     "output_type": "execute_result"
    }
   ],
   "source": [
    "df_likeComment = pd.read_csv(pt_LikeComment, lineterminator='\\n')\n",
    "df_likeComment"
   ]
  },
  {
   "cell_type": "markdown",
   "id": "ff96d215",
   "metadata": {},
   "source": [
    "#### let's count values of MSD_likes columns to prove that\n",
    "#### Is it follow Benford's law or not that most frequently \n",
    "#### digits is 1, then 2, then 3 and so on or not let's check"
   ]
  },
  {
   "cell_type": "code",
   "execution_count": 52,
   "id": "a04854f5",
   "metadata": {},
   "outputs": [
    {
     "data": {
      "text/plain": [
       "1    5772\n",
       "2    3667\n",
       "3    2639\n",
       "4    1632\n",
       "0    1540\n",
       "5    1213\n",
       "6     917\n",
       "7     741\n",
       "8     612\n",
       "9     567\n",
       "Name: MSD_Likes, dtype: int64"
      ]
     },
     "execution_count": 52,
     "metadata": {},
     "output_type": "execute_result"
    }
   ],
   "source": [
    "df_likeComment['MSD_Likes'].value_counts()"
   ]
  },
  {
   "cell_type": "markdown",
   "id": "711d56fd",
   "metadata": {},
   "source": [
    "#### here we see \n",
    "#### 1 appears 5772 \n",
    "#### 2 appears 3667\n",
    "#### 3 appears 2639\n",
    "#### and so on in decreasing order\n",
    "\n",
    "### let's plot in a graph"
   ]
  },
  {
   "cell_type": "code",
   "execution_count": 53,
   "id": "b07636bc",
   "metadata": {},
   "outputs": [
    {
     "data": {
      "text/plain": [
       "<AxesSubplot:>"
      ]
     },
     "execution_count": 53,
     "metadata": {},
     "output_type": "execute_result"
    },
    {
     "data": {
      "image/png": "[encoded data removed]",
      "text/plain": [
       "<Figure size 432x288 with 1 Axes>"
      ]
     },
     "metadata": {
      "needs_background": "light"
     },
     "output_type": "display_data"
    }
   ],
   "source": [
    "df_likeComment['MSD_Likes'].value_counts().plot(kind = 'bar')"
   ]
  },
  {
   "cell_type": "markdown",
   "id": "6c91ed3d",
   "metadata": {},
   "source": [
    "#### Here also seen in graph\n",
    "#### Benford's Law follow\n",
    "\n",
    "### Thank you for reading!!\n",
    "\n",
    "##### https://sohipm.com"
   ]
  },
  {
   "cell_type": "code",
   "execution_count": null,
   "id": "30364aec",
   "metadata": {},
   "outputs": [],
   "source": []
  }
 ],
 "metadata": {
  "kernelspec": {
   "display_name": "Python 3 (ipykernel)",
   "language": "python",
   "name": "python3"
  },
  "language_info": {
   "codemirror_mode": {
    "name": "ipython",
    "version": 3
   },
   "file_extension": ".py",
   "mimetype": "text/x-python",
   "name": "python",
   "nbconvert_exporter": "python",
   "pygments_lexer": "ipython3",
   "version": "3.9.7"
  }
 },
 "nbformat": 4,
 "nbformat_minor": 5
}
